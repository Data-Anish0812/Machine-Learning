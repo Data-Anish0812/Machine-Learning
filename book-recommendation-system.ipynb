{
 "cells": [
  {
   "cell_type": "code",
   "execution_count": 1,
   "id": "e733974d",
   "metadata": {
    "execution": {
     "iopub.execute_input": "2024-12-10T11:30:06.434660Z",
     "iopub.status.busy": "2024-12-10T11:30:06.433664Z",
     "iopub.status.idle": "2024-12-10T11:30:09.504142Z",
     "shell.execute_reply": "2024-12-10T11:30:09.502930Z"
    },
    "papermill": {
     "duration": 3.080548,
     "end_time": "2024-12-10T11:30:09.506938",
     "exception": false,
     "start_time": "2024-12-10T11:30:06.426390",
     "status": "completed"
    },
    "tags": []
   },
   "outputs": [],
   "source": [
    "import numpy as np\n",
    "import pandas as pd\n",
    "from sklearn.cluster import KMeans\n",
    "from sklearn import neighbors\n",
    "from sklearn.model_selection import train_test_split\n",
    "from sklearn.preprocessing import MinMaxScaler"
   ]
  },
  {
   "cell_type": "code",
   "execution_count": 2,
   "id": "4974ae9a",
   "metadata": {
    "execution": {
     "iopub.execute_input": "2024-12-10T11:30:09.518894Z",
     "iopub.status.busy": "2024-12-10T11:30:09.518278Z",
     "iopub.status.idle": "2024-12-10T11:30:09.613241Z",
     "shell.execute_reply": "2024-12-10T11:30:09.611951Z"
    },
    "papermill": {
     "duration": 0.103952,
     "end_time": "2024-12-10T11:30:09.615903",
     "exception": false,
     "start_time": "2024-12-10T11:30:09.511951",
     "status": "completed"
    },
    "tags": []
   },
   "outputs": [],
   "source": [
    "df=pd.read_csv('/kaggle/input/bookname-dataset/books.csv', on_bad_lines='skip')"
   ]
  },
  {
   "cell_type": "code",
   "execution_count": 3,
   "id": "239c6e18",
   "metadata": {
    "execution": {
     "iopub.execute_input": "2024-12-10T11:30:09.627975Z",
     "iopub.status.busy": "2024-12-10T11:30:09.626847Z",
     "iopub.status.idle": "2024-12-10T11:30:09.660309Z",
     "shell.execute_reply": "2024-12-10T11:30:09.659203Z"
    },
    "papermill": {
     "duration": 0.042291,
     "end_time": "2024-12-10T11:30:09.662794",
     "exception": false,
     "start_time": "2024-12-10T11:30:09.620503",
     "status": "completed"
    },
    "tags": []
   },
   "outputs": [
    {
     "data": {
      "text/html": [
       "<div>\n",
       "<style scoped>\n",
       "    .dataframe tbody tr th:only-of-type {\n",
       "        vertical-align: middle;\n",
       "    }\n",
       "\n",
       "    .dataframe tbody tr th {\n",
       "        vertical-align: top;\n",
       "    }\n",
       "\n",
       "    .dataframe thead th {\n",
       "        text-align: right;\n",
       "    }\n",
       "</style>\n",
       "<table border=\"1\" class=\"dataframe\">\n",
       "  <thead>\n",
       "    <tr style=\"text-align: right;\">\n",
       "      <th></th>\n",
       "      <th>bookID</th>\n",
       "      <th>title</th>\n",
       "      <th>authors</th>\n",
       "      <th>average_rating</th>\n",
       "      <th>isbn</th>\n",
       "      <th>isbn13</th>\n",
       "      <th>language_code</th>\n",
       "      <th>num_pages</th>\n",
       "      <th>ratings_count</th>\n",
       "      <th>text_reviews_count</th>\n",
       "      <th>publication_date</th>\n",
       "      <th>publisher</th>\n",
       "    </tr>\n",
       "  </thead>\n",
       "  <tbody>\n",
       "    <tr>\n",
       "      <th>0</th>\n",
       "      <td>1</td>\n",
       "      <td>Harry Potter and the Half-Blood Prince (Harry ...</td>\n",
       "      <td>J.K. Rowling/Mary GrandPré</td>\n",
       "      <td>4.57</td>\n",
       "      <td>0439785960</td>\n",
       "      <td>9780439785969</td>\n",
       "      <td>eng</td>\n",
       "      <td>652</td>\n",
       "      <td>2095690</td>\n",
       "      <td>27591</td>\n",
       "      <td>9/16/2006</td>\n",
       "      <td>Scholastic Inc.</td>\n",
       "    </tr>\n",
       "    <tr>\n",
       "      <th>1</th>\n",
       "      <td>2</td>\n",
       "      <td>Harry Potter and the Order of the Phoenix (Har...</td>\n",
       "      <td>J.K. Rowling/Mary GrandPré</td>\n",
       "      <td>4.49</td>\n",
       "      <td>0439358078</td>\n",
       "      <td>9780439358071</td>\n",
       "      <td>eng</td>\n",
       "      <td>870</td>\n",
       "      <td>2153167</td>\n",
       "      <td>29221</td>\n",
       "      <td>9/1/2004</td>\n",
       "      <td>Scholastic Inc.</td>\n",
       "    </tr>\n",
       "    <tr>\n",
       "      <th>2</th>\n",
       "      <td>4</td>\n",
       "      <td>Harry Potter and the Chamber of Secrets (Harry...</td>\n",
       "      <td>J.K. Rowling</td>\n",
       "      <td>4.42</td>\n",
       "      <td>0439554896</td>\n",
       "      <td>9780439554893</td>\n",
       "      <td>eng</td>\n",
       "      <td>352</td>\n",
       "      <td>6333</td>\n",
       "      <td>244</td>\n",
       "      <td>11/1/2003</td>\n",
       "      <td>Scholastic</td>\n",
       "    </tr>\n",
       "    <tr>\n",
       "      <th>3</th>\n",
       "      <td>5</td>\n",
       "      <td>Harry Potter and the Prisoner of Azkaban (Harr...</td>\n",
       "      <td>J.K. Rowling/Mary GrandPré</td>\n",
       "      <td>4.56</td>\n",
       "      <td>043965548X</td>\n",
       "      <td>9780439655484</td>\n",
       "      <td>eng</td>\n",
       "      <td>435</td>\n",
       "      <td>2339585</td>\n",
       "      <td>36325</td>\n",
       "      <td>5/1/2004</td>\n",
       "      <td>Scholastic Inc.</td>\n",
       "    </tr>\n",
       "    <tr>\n",
       "      <th>4</th>\n",
       "      <td>8</td>\n",
       "      <td>Harry Potter Boxed Set  Books 1-5 (Harry Potte...</td>\n",
       "      <td>J.K. Rowling/Mary GrandPré</td>\n",
       "      <td>4.78</td>\n",
       "      <td>0439682584</td>\n",
       "      <td>9780439682589</td>\n",
       "      <td>eng</td>\n",
       "      <td>2690</td>\n",
       "      <td>41428</td>\n",
       "      <td>164</td>\n",
       "      <td>9/13/2004</td>\n",
       "      <td>Scholastic</td>\n",
       "    </tr>\n",
       "    <tr>\n",
       "      <th>...</th>\n",
       "      <td>...</td>\n",
       "      <td>...</td>\n",
       "      <td>...</td>\n",
       "      <td>...</td>\n",
       "      <td>...</td>\n",
       "      <td>...</td>\n",
       "      <td>...</td>\n",
       "      <td>...</td>\n",
       "      <td>...</td>\n",
       "      <td>...</td>\n",
       "      <td>...</td>\n",
       "      <td>...</td>\n",
       "    </tr>\n",
       "    <tr>\n",
       "      <th>11118</th>\n",
       "      <td>45631</td>\n",
       "      <td>Expelled from Eden: A William T. Vollmann Reader</td>\n",
       "      <td>William T. Vollmann/Larry McCaffery/Michael He...</td>\n",
       "      <td>4.06</td>\n",
       "      <td>1560254416</td>\n",
       "      <td>9781560254416</td>\n",
       "      <td>eng</td>\n",
       "      <td>512</td>\n",
       "      <td>156</td>\n",
       "      <td>20</td>\n",
       "      <td>12/21/2004</td>\n",
       "      <td>Da Capo Press</td>\n",
       "    </tr>\n",
       "    <tr>\n",
       "      <th>11119</th>\n",
       "      <td>45633</td>\n",
       "      <td>You Bright and Risen Angels</td>\n",
       "      <td>William T. Vollmann</td>\n",
       "      <td>4.08</td>\n",
       "      <td>0140110879</td>\n",
       "      <td>9780140110876</td>\n",
       "      <td>eng</td>\n",
       "      <td>635</td>\n",
       "      <td>783</td>\n",
       "      <td>56</td>\n",
       "      <td>12/1/1988</td>\n",
       "      <td>Penguin Books</td>\n",
       "    </tr>\n",
       "    <tr>\n",
       "      <th>11120</th>\n",
       "      <td>45634</td>\n",
       "      <td>The Ice-Shirt (Seven Dreams #1)</td>\n",
       "      <td>William T. Vollmann</td>\n",
       "      <td>3.96</td>\n",
       "      <td>0140131965</td>\n",
       "      <td>9780140131963</td>\n",
       "      <td>eng</td>\n",
       "      <td>415</td>\n",
       "      <td>820</td>\n",
       "      <td>95</td>\n",
       "      <td>8/1/1993</td>\n",
       "      <td>Penguin Books</td>\n",
       "    </tr>\n",
       "    <tr>\n",
       "      <th>11121</th>\n",
       "      <td>45639</td>\n",
       "      <td>Poor People</td>\n",
       "      <td>William T. Vollmann</td>\n",
       "      <td>3.72</td>\n",
       "      <td>0060878827</td>\n",
       "      <td>9780060878825</td>\n",
       "      <td>eng</td>\n",
       "      <td>434</td>\n",
       "      <td>769</td>\n",
       "      <td>139</td>\n",
       "      <td>2/27/2007</td>\n",
       "      <td>Ecco</td>\n",
       "    </tr>\n",
       "    <tr>\n",
       "      <th>11122</th>\n",
       "      <td>45641</td>\n",
       "      <td>Las aventuras de Tom Sawyer</td>\n",
       "      <td>Mark Twain</td>\n",
       "      <td>3.91</td>\n",
       "      <td>8497646983</td>\n",
       "      <td>9788497646987</td>\n",
       "      <td>spa</td>\n",
       "      <td>272</td>\n",
       "      <td>113</td>\n",
       "      <td>12</td>\n",
       "      <td>5/28/2006</td>\n",
       "      <td>Edimat Libros</td>\n",
       "    </tr>\n",
       "  </tbody>\n",
       "</table>\n",
       "<p>11123 rows × 12 columns</p>\n",
       "</div>"
      ],
      "text/plain": [
       "       bookID                                              title  \\\n",
       "0           1  Harry Potter and the Half-Blood Prince (Harry ...   \n",
       "1           2  Harry Potter and the Order of the Phoenix (Har...   \n",
       "2           4  Harry Potter and the Chamber of Secrets (Harry...   \n",
       "3           5  Harry Potter and the Prisoner of Azkaban (Harr...   \n",
       "4           8  Harry Potter Boxed Set  Books 1-5 (Harry Potte...   \n",
       "...       ...                                                ...   \n",
       "11118   45631   Expelled from Eden: A William T. Vollmann Reader   \n",
       "11119   45633                        You Bright and Risen Angels   \n",
       "11120   45634                    The Ice-Shirt (Seven Dreams #1)   \n",
       "11121   45639                                        Poor People   \n",
       "11122   45641                        Las aventuras de Tom Sawyer   \n",
       "\n",
       "                                                 authors  average_rating  \\\n",
       "0                             J.K. Rowling/Mary GrandPré            4.57   \n",
       "1                             J.K. Rowling/Mary GrandPré            4.49   \n",
       "2                                           J.K. Rowling            4.42   \n",
       "3                             J.K. Rowling/Mary GrandPré            4.56   \n",
       "4                             J.K. Rowling/Mary GrandPré            4.78   \n",
       "...                                                  ...             ...   \n",
       "11118  William T. Vollmann/Larry McCaffery/Michael He...            4.06   \n",
       "11119                                William T. Vollmann            4.08   \n",
       "11120                                William T. Vollmann            3.96   \n",
       "11121                                William T. Vollmann            3.72   \n",
       "11122                                         Mark Twain            3.91   \n",
       "\n",
       "             isbn         isbn13 language_code    num_pages  ratings_count  \\\n",
       "0      0439785960  9780439785969           eng          652        2095690   \n",
       "1      0439358078  9780439358071           eng          870        2153167   \n",
       "2      0439554896  9780439554893           eng          352           6333   \n",
       "3      043965548X  9780439655484           eng          435        2339585   \n",
       "4      0439682584  9780439682589           eng         2690          41428   \n",
       "...           ...            ...           ...          ...            ...   \n",
       "11118  1560254416  9781560254416           eng          512            156   \n",
       "11119  0140110879  9780140110876           eng          635            783   \n",
       "11120  0140131965  9780140131963           eng          415            820   \n",
       "11121  0060878827  9780060878825           eng          434            769   \n",
       "11122  8497646983  9788497646987           spa          272            113   \n",
       "\n",
       "       text_reviews_count publication_date        publisher  \n",
       "0                   27591        9/16/2006  Scholastic Inc.  \n",
       "1                   29221         9/1/2004  Scholastic Inc.  \n",
       "2                     244        11/1/2003       Scholastic  \n",
       "3                   36325         5/1/2004  Scholastic Inc.  \n",
       "4                     164        9/13/2004       Scholastic  \n",
       "...                   ...              ...              ...  \n",
       "11118                  20       12/21/2004    Da Capo Press  \n",
       "11119                  56        12/1/1988    Penguin Books  \n",
       "11120                  95         8/1/1993    Penguin Books  \n",
       "11121                 139        2/27/2007             Ecco  \n",
       "11122                  12        5/28/2006    Edimat Libros  \n",
       "\n",
       "[11123 rows x 12 columns]"
      ]
     },
     "execution_count": 3,
     "metadata": {},
     "output_type": "execute_result"
    }
   ],
   "source": [
    "df"
   ]
  },
  {
   "cell_type": "code",
   "execution_count": 4,
   "id": "c364573d",
   "metadata": {
    "execution": {
     "iopub.execute_input": "2024-12-10T11:30:09.675788Z",
     "iopub.status.busy": "2024-12-10T11:30:09.675318Z",
     "iopub.status.idle": "2024-12-10T11:30:09.708287Z",
     "shell.execute_reply": "2024-12-10T11:30:09.707039Z"
    },
    "papermill": {
     "duration": 0.042566,
     "end_time": "2024-12-10T11:30:09.710474",
     "exception": false,
     "start_time": "2024-12-10T11:30:09.667908",
     "status": "completed"
    },
    "tags": []
   },
   "outputs": [
    {
     "data": {
      "text/html": [
       "<div>\n",
       "<style scoped>\n",
       "    .dataframe tbody tr th:only-of-type {\n",
       "        vertical-align: middle;\n",
       "    }\n",
       "\n",
       "    .dataframe tbody tr th {\n",
       "        vertical-align: top;\n",
       "    }\n",
       "\n",
       "    .dataframe thead th {\n",
       "        text-align: right;\n",
       "    }\n",
       "</style>\n",
       "<table border=\"1\" class=\"dataframe\">\n",
       "  <thead>\n",
       "    <tr style=\"text-align: right;\">\n",
       "      <th></th>\n",
       "      <th>bookID</th>\n",
       "      <th>average_rating</th>\n",
       "      <th>isbn13</th>\n",
       "      <th>num_pages</th>\n",
       "      <th>ratings_count</th>\n",
       "      <th>text_reviews_count</th>\n",
       "    </tr>\n",
       "  </thead>\n",
       "  <tbody>\n",
       "    <tr>\n",
       "      <th>count</th>\n",
       "      <td>11123.000000</td>\n",
       "      <td>11123.000000</td>\n",
       "      <td>1.112300e+04</td>\n",
       "      <td>11123.000000</td>\n",
       "      <td>1.112300e+04</td>\n",
       "      <td>11123.000000</td>\n",
       "    </tr>\n",
       "    <tr>\n",
       "      <th>mean</th>\n",
       "      <td>21310.856963</td>\n",
       "      <td>3.934075</td>\n",
       "      <td>9.759880e+12</td>\n",
       "      <td>336.405556</td>\n",
       "      <td>1.794285e+04</td>\n",
       "      <td>542.048099</td>\n",
       "    </tr>\n",
       "    <tr>\n",
       "      <th>std</th>\n",
       "      <td>13094.727252</td>\n",
       "      <td>0.350485</td>\n",
       "      <td>4.429758e+11</td>\n",
       "      <td>241.152626</td>\n",
       "      <td>1.124992e+05</td>\n",
       "      <td>2576.619589</td>\n",
       "    </tr>\n",
       "    <tr>\n",
       "      <th>min</th>\n",
       "      <td>1.000000</td>\n",
       "      <td>0.000000</td>\n",
       "      <td>8.987060e+09</td>\n",
       "      <td>0.000000</td>\n",
       "      <td>0.000000e+00</td>\n",
       "      <td>0.000000</td>\n",
       "    </tr>\n",
       "    <tr>\n",
       "      <th>25%</th>\n",
       "      <td>10277.500000</td>\n",
       "      <td>3.770000</td>\n",
       "      <td>9.780345e+12</td>\n",
       "      <td>192.000000</td>\n",
       "      <td>1.040000e+02</td>\n",
       "      <td>9.000000</td>\n",
       "    </tr>\n",
       "    <tr>\n",
       "      <th>50%</th>\n",
       "      <td>20287.000000</td>\n",
       "      <td>3.960000</td>\n",
       "      <td>9.780582e+12</td>\n",
       "      <td>299.000000</td>\n",
       "      <td>7.450000e+02</td>\n",
       "      <td>47.000000</td>\n",
       "    </tr>\n",
       "    <tr>\n",
       "      <th>75%</th>\n",
       "      <td>32104.500000</td>\n",
       "      <td>4.140000</td>\n",
       "      <td>9.780872e+12</td>\n",
       "      <td>416.000000</td>\n",
       "      <td>5.000500e+03</td>\n",
       "      <td>238.000000</td>\n",
       "    </tr>\n",
       "    <tr>\n",
       "      <th>max</th>\n",
       "      <td>45641.000000</td>\n",
       "      <td>5.000000</td>\n",
       "      <td>9.790008e+12</td>\n",
       "      <td>6576.000000</td>\n",
       "      <td>4.597666e+06</td>\n",
       "      <td>94265.000000</td>\n",
       "    </tr>\n",
       "  </tbody>\n",
       "</table>\n",
       "</div>"
      ],
      "text/plain": [
       "             bookID  average_rating        isbn13     num_pages  \\\n",
       "count  11123.000000    11123.000000  1.112300e+04  11123.000000   \n",
       "mean   21310.856963        3.934075  9.759880e+12    336.405556   \n",
       "std    13094.727252        0.350485  4.429758e+11    241.152626   \n",
       "min        1.000000        0.000000  8.987060e+09      0.000000   \n",
       "25%    10277.500000        3.770000  9.780345e+12    192.000000   \n",
       "50%    20287.000000        3.960000  9.780582e+12    299.000000   \n",
       "75%    32104.500000        4.140000  9.780872e+12    416.000000   \n",
       "max    45641.000000        5.000000  9.790008e+12   6576.000000   \n",
       "\n",
       "       ratings_count  text_reviews_count  \n",
       "count   1.112300e+04        11123.000000  \n",
       "mean    1.794285e+04          542.048099  \n",
       "std     1.124992e+05         2576.619589  \n",
       "min     0.000000e+00            0.000000  \n",
       "25%     1.040000e+02            9.000000  \n",
       "50%     7.450000e+02           47.000000  \n",
       "75%     5.000500e+03          238.000000  \n",
       "max     4.597666e+06        94265.000000  "
      ]
     },
     "execution_count": 4,
     "metadata": {},
     "output_type": "execute_result"
    }
   ],
   "source": [
    "df.describe()\n"
   ]
  },
  {
   "cell_type": "code",
   "execution_count": 5,
   "id": "5f5bda6e",
   "metadata": {
    "execution": {
     "iopub.execute_input": "2024-12-10T11:30:09.722077Z",
     "iopub.status.busy": "2024-12-10T11:30:09.721614Z",
     "iopub.status.idle": "2024-12-10T11:30:09.727977Z",
     "shell.execute_reply": "2024-12-10T11:30:09.726869Z"
    },
    "papermill": {
     "duration": 0.014938,
     "end_time": "2024-12-10T11:30:09.730346",
     "exception": false,
     "start_time": "2024-12-10T11:30:09.715408",
     "status": "completed"
    },
    "tags": []
   },
   "outputs": [],
   "source": [
    "X = df.copy()\n"
   ]
  },
  {
   "cell_type": "code",
   "execution_count": 6,
   "id": "b782fa00",
   "metadata": {
    "execution": {
     "iopub.execute_input": "2024-12-10T11:30:09.742725Z",
     "iopub.status.busy": "2024-12-10T11:30:09.742213Z",
     "iopub.status.idle": "2024-12-10T11:30:09.757118Z",
     "shell.execute_reply": "2024-12-10T11:30:09.756028Z"
    },
    "papermill": {
     "duration": 0.023842,
     "end_time": "2024-12-10T11:30:09.759515",
     "exception": false,
     "start_time": "2024-12-10T11:30:09.735673",
     "status": "completed"
    },
    "tags": []
   },
   "outputs": [],
   "source": [
    "X.loc[ (X['average_rating'] >= 0) & (X['average_rating'] <= 1), 'rating_between'] = \"between 0 and 1\"\n",
    "X.loc[ (X['average_rating'] > 1) & (X['average_rating'] <= 2), 'rating_between'] = \"between 1 and 2\"\n",
    "X.loc[ (X['average_rating'] > 2) & (X['average_rating'] <= 3), 'rating_between'] = \"between 2 and 3\"\n",
    "X.loc[ (X['average_rating'] > 3) & (X['average_rating'] <= 4), 'rating_between'] = \"between 3 and 4\"\n",
    "X.loc[ (X['average_rating'] > 4) & (X['average_rating'] <= 5), 'rating_between'] = \"between 4 and 5\""
   ]
  },
  {
   "cell_type": "code",
   "execution_count": 7,
   "id": "da717a8a",
   "metadata": {
    "execution": {
     "iopub.execute_input": "2024-12-10T11:30:09.771912Z",
     "iopub.status.busy": "2024-12-10T11:30:09.771466Z",
     "iopub.status.idle": "2024-12-10T11:30:09.784996Z",
     "shell.execute_reply": "2024-12-10T11:30:09.783875Z"
    },
    "papermill": {
     "duration": 0.022742,
     "end_time": "2024-12-10T11:30:09.787308",
     "exception": false,
     "start_time": "2024-12-10T11:30:09.764566",
     "status": "completed"
    },
    "tags": []
   },
   "outputs": [],
   "source": [
    "rating=pd.get_dummies(X['rating_between'])\n",
    "lang=pd.get_dummies(X['language_code'])"
   ]
  },
  {
   "cell_type": "code",
   "execution_count": 8,
   "id": "c2088cf7",
   "metadata": {
    "execution": {
     "iopub.execute_input": "2024-12-10T11:30:09.799083Z",
     "iopub.status.busy": "2024-12-10T11:30:09.798624Z",
     "iopub.status.idle": "2024-12-10T11:30:09.805574Z",
     "shell.execute_reply": "2024-12-10T11:30:09.804409Z"
    },
    "papermill": {
     "duration": 0.015588,
     "end_time": "2024-12-10T11:30:09.807914",
     "exception": false,
     "start_time": "2024-12-10T11:30:09.792326",
     "status": "completed"
    },
    "tags": []
   },
   "outputs": [],
   "source": [
    "features = pd.concat([rating,\n",
    "                      lang,\n",
    "                      X['average_rating'],\n",
    "                      X['ratings_count']\n",
    "    \n",
    "], axis=1)"
   ]
  },
  {
   "cell_type": "code",
   "execution_count": 9,
   "id": "987d1233",
   "metadata": {
    "execution": {
     "iopub.execute_input": "2024-12-10T11:30:09.819945Z",
     "iopub.status.busy": "2024-12-10T11:30:09.819481Z",
     "iopub.status.idle": "2024-12-10T11:30:09.824860Z",
     "shell.execute_reply": "2024-12-10T11:30:09.823598Z"
    },
    "papermill": {
     "duration": 0.015122,
     "end_time": "2024-12-10T11:30:09.828262",
     "exception": false,
     "start_time": "2024-12-10T11:30:09.813140",
     "status": "completed"
    },
    "tags": []
   },
   "outputs": [],
   "source": [
    "scaler=MinMaxScaler()"
   ]
  },
  {
   "cell_type": "code",
   "execution_count": 10,
   "id": "33128fad",
   "metadata": {
    "execution": {
     "iopub.execute_input": "2024-12-10T11:30:09.840471Z",
     "iopub.status.busy": "2024-12-10T11:30:09.840067Z",
     "iopub.status.idle": "2024-12-10T11:30:09.871581Z",
     "shell.execute_reply": "2024-12-10T11:30:09.870363Z"
    },
    "papermill": {
     "duration": 0.04056,
     "end_time": "2024-12-10T11:30:09.874104",
     "exception": false,
     "start_time": "2024-12-10T11:30:09.833544",
     "status": "completed"
    },
    "tags": []
   },
   "outputs": [],
   "source": [
    "features=scaler.fit_transform(features)\n"
   ]
  },
  {
   "cell_type": "code",
   "execution_count": 11,
   "id": "d3183b73",
   "metadata": {
    "execution": {
     "iopub.execute_input": "2024-12-10T11:30:09.886287Z",
     "iopub.status.busy": "2024-12-10T11:30:09.885387Z",
     "iopub.status.idle": "2024-12-10T11:30:09.890850Z",
     "shell.execute_reply": "2024-12-10T11:30:09.889776Z"
    },
    "papermill": {
     "duration": 0.014137,
     "end_time": "2024-12-10T11:30:09.893185",
     "exception": false,
     "start_time": "2024-12-10T11:30:09.879048",
     "status": "completed"
    },
    "tags": []
   },
   "outputs": [],
   "source": [
    "from sklearn.cluster import KMeans"
   ]
  },
  {
   "cell_type": "code",
   "execution_count": 12,
   "id": "e138268f",
   "metadata": {
    "execution": {
     "iopub.execute_input": "2024-12-10T11:30:09.905073Z",
     "iopub.status.busy": "2024-12-10T11:30:09.904635Z",
     "iopub.status.idle": "2024-12-10T11:30:09.909639Z",
     "shell.execute_reply": "2024-12-10T11:30:09.908568Z"
    },
    "papermill": {
     "duration": 0.013653,
     "end_time": "2024-12-10T11:30:09.911883",
     "exception": false,
     "start_time": "2024-12-10T11:30:09.898230",
     "status": "completed"
    },
    "tags": []
   },
   "outputs": [],
   "source": [
    "model=neighbors.NearestNeighbors()"
   ]
  },
  {
   "cell_type": "code",
   "execution_count": 13,
   "id": "fc3d8b04",
   "metadata": {
    "execution": {
     "iopub.execute_input": "2024-12-10T11:30:09.923473Z",
     "iopub.status.busy": "2024-12-10T11:30:09.923053Z",
     "iopub.status.idle": "2024-12-10T11:30:09.934383Z",
     "shell.execute_reply": "2024-12-10T11:30:09.933290Z"
    },
    "papermill": {
     "duration": 0.019972,
     "end_time": "2024-12-10T11:30:09.936791",
     "exception": false,
     "start_time": "2024-12-10T11:30:09.916819",
     "status": "completed"
    },
    "tags": []
   },
   "outputs": [
    {
     "data": {
      "text/html": [
       "<style>#sk-container-id-1 {color: black;background-color: white;}#sk-container-id-1 pre{padding: 0;}#sk-container-id-1 div.sk-toggleable {background-color: white;}#sk-container-id-1 label.sk-toggleable__label {cursor: pointer;display: block;width: 100%;margin-bottom: 0;padding: 0.3em;box-sizing: border-box;text-align: center;}#sk-container-id-1 label.sk-toggleable__label-arrow:before {content: \"▸\";float: left;margin-right: 0.25em;color: #696969;}#sk-container-id-1 label.sk-toggleable__label-arrow:hover:before {color: black;}#sk-container-id-1 div.sk-estimator:hover label.sk-toggleable__label-arrow:before {color: black;}#sk-container-id-1 div.sk-toggleable__content {max-height: 0;max-width: 0;overflow: hidden;text-align: left;background-color: #f0f8ff;}#sk-container-id-1 div.sk-toggleable__content pre {margin: 0.2em;color: black;border-radius: 0.25em;background-color: #f0f8ff;}#sk-container-id-1 input.sk-toggleable__control:checked~div.sk-toggleable__content {max-height: 200px;max-width: 100%;overflow: auto;}#sk-container-id-1 input.sk-toggleable__control:checked~label.sk-toggleable__label-arrow:before {content: \"▾\";}#sk-container-id-1 div.sk-estimator input.sk-toggleable__control:checked~label.sk-toggleable__label {background-color: #d4ebff;}#sk-container-id-1 div.sk-label input.sk-toggleable__control:checked~label.sk-toggleable__label {background-color: #d4ebff;}#sk-container-id-1 input.sk-hidden--visually {border: 0;clip: rect(1px 1px 1px 1px);clip: rect(1px, 1px, 1px, 1px);height: 1px;margin: -1px;overflow: hidden;padding: 0;position: absolute;width: 1px;}#sk-container-id-1 div.sk-estimator {font-family: monospace;background-color: #f0f8ff;border: 1px dotted black;border-radius: 0.25em;box-sizing: border-box;margin-bottom: 0.5em;}#sk-container-id-1 div.sk-estimator:hover {background-color: #d4ebff;}#sk-container-id-1 div.sk-parallel-item::after {content: \"\";width: 100%;border-bottom: 1px solid gray;flex-grow: 1;}#sk-container-id-1 div.sk-label:hover label.sk-toggleable__label {background-color: #d4ebff;}#sk-container-id-1 div.sk-serial::before {content: \"\";position: absolute;border-left: 1px solid gray;box-sizing: border-box;top: 0;bottom: 0;left: 50%;z-index: 0;}#sk-container-id-1 div.sk-serial {display: flex;flex-direction: column;align-items: center;background-color: white;padding-right: 0.2em;padding-left: 0.2em;position: relative;}#sk-container-id-1 div.sk-item {position: relative;z-index: 1;}#sk-container-id-1 div.sk-parallel {display: flex;align-items: stretch;justify-content: center;background-color: white;position: relative;}#sk-container-id-1 div.sk-item::before, #sk-container-id-1 div.sk-parallel-item::before {content: \"\";position: absolute;border-left: 1px solid gray;box-sizing: border-box;top: 0;bottom: 0;left: 50%;z-index: -1;}#sk-container-id-1 div.sk-parallel-item {display: flex;flex-direction: column;z-index: 1;position: relative;background-color: white;}#sk-container-id-1 div.sk-parallel-item:first-child::after {align-self: flex-end;width: 50%;}#sk-container-id-1 div.sk-parallel-item:last-child::after {align-self: flex-start;width: 50%;}#sk-container-id-1 div.sk-parallel-item:only-child::after {width: 0;}#sk-container-id-1 div.sk-dashed-wrapped {border: 1px dashed gray;margin: 0 0.4em 0.5em 0.4em;box-sizing: border-box;padding-bottom: 0.4em;background-color: white;}#sk-container-id-1 div.sk-label label {font-family: monospace;font-weight: bold;display: inline-block;line-height: 1.2em;}#sk-container-id-1 div.sk-label-container {text-align: center;}#sk-container-id-1 div.sk-container {/* jupyter's `normalize.less` sets `[hidden] { display: none; }` but bootstrap.min.css set `[hidden] { display: none !important; }` so we also need the `!important` here to be able to override the default hidden behavior on the sphinx rendered scikit-learn.org. See: https://github.com/scikit-learn/scikit-learn/issues/21755 */display: inline-block !important;position: relative;}#sk-container-id-1 div.sk-text-repr-fallback {display: none;}</style><div id=\"sk-container-id-1\" class=\"sk-top-container\"><div class=\"sk-text-repr-fallback\"><pre>NearestNeighbors()</pre><b>In a Jupyter environment, please rerun this cell to show the HTML representation or trust the notebook. <br />On GitHub, the HTML representation is unable to render, please try loading this page with nbviewer.org.</b></div><div class=\"sk-container\" hidden><div class=\"sk-item\"><div class=\"sk-estimator sk-toggleable\"><input class=\"sk-toggleable__control sk-hidden--visually\" id=\"sk-estimator-id-1\" type=\"checkbox\" checked><label for=\"sk-estimator-id-1\" class=\"sk-toggleable__label sk-toggleable__label-arrow\">NearestNeighbors</label><div class=\"sk-toggleable__content\"><pre>NearestNeighbors()</pre></div></div></div></div></div>"
      ],
      "text/plain": [
       "NearestNeighbors()"
      ]
     },
     "execution_count": 13,
     "metadata": {},
     "output_type": "execute_result"
    }
   ],
   "source": [
    "model.fit(features)"
   ]
  },
  {
   "cell_type": "code",
   "execution_count": 14,
   "id": "8034985d",
   "metadata": {
    "execution": {
     "iopub.execute_input": "2024-12-10T11:30:09.949765Z",
     "iopub.status.busy": "2024-12-10T11:30:09.948742Z",
     "iopub.status.idle": "2024-12-10T11:30:10.376593Z",
     "shell.execute_reply": "2024-12-10T11:30:10.375635Z"
    },
    "papermill": {
     "duration": 0.437252,
     "end_time": "2024-12-10T11:30:10.379404",
     "exception": false,
     "start_time": "2024-12-10T11:30:09.942152",
     "status": "completed"
    },
    "tags": []
   },
   "outputs": [],
   "source": [
    "dist, idlist = model.kneighbors(features)"
   ]
  },
  {
   "cell_type": "code",
   "execution_count": 15,
   "id": "6bcbb9e4",
   "metadata": {
    "execution": {
     "iopub.execute_input": "2024-12-10T11:30:10.394295Z",
     "iopub.status.busy": "2024-12-10T11:30:10.393893Z",
     "iopub.status.idle": "2024-12-10T11:30:10.399951Z",
     "shell.execute_reply": "2024-12-10T11:30:10.398647Z"
    },
    "papermill": {
     "duration": 0.016205,
     "end_time": "2024-12-10T11:30:10.402215",
     "exception": false,
     "start_time": "2024-12-10T11:30:10.386010",
     "status": "completed"
    },
    "tags": []
   },
   "outputs": [],
   "source": [
    "def BookRecommender(book_name):\n",
    "    book_list_name = []\n",
    "    book_id = X[X['title'] == book_name].index\n",
    "    book_id = book_id[0]\n",
    "    for newid in idlist[book_id]:\n",
    "        book_list_name.append(X.loc[newid].title)\n",
    "    return book_list_name"
   ]
  },
  {
   "cell_type": "code",
   "execution_count": 16,
   "id": "eb0bbee9",
   "metadata": {
    "execution": {
     "iopub.execute_input": "2024-12-10T11:30:10.414652Z",
     "iopub.status.busy": "2024-12-10T11:30:10.414216Z",
     "iopub.status.idle": "2024-12-10T11:30:10.424146Z",
     "shell.execute_reply": "2024-12-10T11:30:10.422976Z"
    },
    "papermill": {
     "duration": 0.018906,
     "end_time": "2024-12-10T11:30:10.426461",
     "exception": false,
     "start_time": "2024-12-10T11:30:10.407555",
     "status": "completed"
    },
    "tags": []
   },
   "outputs": [],
   "source": [
    "new_books=BookRecommender('Seven Japanese Tales')"
   ]
  },
  {
   "cell_type": "code",
   "execution_count": 17,
   "id": "5d34437d",
   "metadata": {
    "execution": {
     "iopub.execute_input": "2024-12-10T11:30:10.438762Z",
     "iopub.status.busy": "2024-12-10T11:30:10.438306Z",
     "iopub.status.idle": "2024-12-10T11:30:10.445926Z",
     "shell.execute_reply": "2024-12-10T11:30:10.444658Z"
    },
    "papermill": {
     "duration": 0.016588,
     "end_time": "2024-12-10T11:30:10.448142",
     "exception": false,
     "start_time": "2024-12-10T11:30:10.431554",
     "status": "completed"
    },
    "tags": []
   },
   "outputs": [
    {
     "data": {
      "text/plain": [
       "['Seven Japanese Tales',\n",
       " 'A Frolic of His Own',\n",
       " 'The Man Who Watched Trains Go By',\n",
       " \"Foreign Correspondence: A Pen Pal's Journey from Down Under to All Over\",\n",
       " 'Love With the Proper Husband (Effingtons  #6)']"
      ]
     },
     "execution_count": 17,
     "metadata": {},
     "output_type": "execute_result"
    }
   ],
   "source": [
    "new_books"
   ]
  },
  {
   "cell_type": "code",
   "execution_count": 18,
   "id": "1a439f71",
   "metadata": {
    "execution": {
     "iopub.execute_input": "2024-12-10T11:30:10.462044Z",
     "iopub.status.busy": "2024-12-10T11:30:10.461401Z",
     "iopub.status.idle": "2024-12-10T11:30:10.467296Z",
     "shell.execute_reply": "2024-12-10T11:30:10.466222Z"
    },
    "papermill": {
     "duration": 0.015887,
     "end_time": "2024-12-10T11:30:10.469514",
     "exception": false,
     "start_time": "2024-12-10T11:30:10.453627",
     "status": "completed"
    },
    "tags": []
   },
   "outputs": [],
   "source": [
    "import joblib\n",
    "\n"
   ]
  },
  {
   "cell_type": "code",
   "execution_count": 19,
   "id": "42a08a9a",
   "metadata": {
    "execution": {
     "iopub.execute_input": "2024-12-10T11:30:10.481937Z",
     "iopub.status.busy": "2024-12-10T11:30:10.481504Z",
     "iopub.status.idle": "2024-12-10T11:30:10.492013Z",
     "shell.execute_reply": "2024-12-10T11:30:10.490828Z"
    },
    "papermill": {
     "duration": 0.019721,
     "end_time": "2024-12-10T11:30:10.494635",
     "exception": false,
     "start_time": "2024-12-10T11:30:10.474914",
     "status": "completed"
    },
    "tags": []
   },
   "outputs": [],
   "source": [
    "pickle_model = joblib.dump(model,'book_recommender.pkl')"
   ]
  },
  {
   "cell_type": "code",
   "execution_count": null,
   "id": "4f93b59e",
   "metadata": {
    "papermill": {
     "duration": 0.005197,
     "end_time": "2024-12-10T11:30:10.505474",
     "exception": false,
     "start_time": "2024-12-10T11:30:10.500277",
     "status": "completed"
    },
    "tags": []
   },
   "outputs": [],
   "source": []
  }
 ],
 "metadata": {
  "kaggle": {
   "accelerator": "none",
   "dataSources": [
    {
     "datasetId": 6272170,
     "sourceId": 10158211,
     "sourceType": "datasetVersion"
    }
   ],
   "dockerImageVersionId": 30804,
   "isGpuEnabled": false,
   "isInternetEnabled": true,
   "language": "python",
   "sourceType": "notebook"
  },
  "kernelspec": {
   "display_name": "Python 3",
   "language": "python",
   "name": "python3"
  },
  "language_info": {
   "codemirror_mode": {
    "name": "ipython",
    "version": 3
   },
   "file_extension": ".py",
   "mimetype": "text/x-python",
   "name": "python",
   "nbconvert_exporter": "python",
   "pygments_lexer": "ipython3",
   "version": "3.10.14"
  },
  "papermill": {
   "default_parameters": {},
   "duration": 7.738746,
   "end_time": "2024-12-10T11:30:11.233596",
   "environment_variables": {},
   "exception": null,
   "input_path": "__notebook__.ipynb",
   "output_path": "__notebook__.ipynb",
   "parameters": {},
   "start_time": "2024-12-10T11:30:03.494850",
   "version": "2.6.0"
  }
 },
 "nbformat": 4,
 "nbformat_minor": 5
}
